{
 "cells": [
  {
   "cell_type": "markdown",
   "metadata": {
    "colab_type": "text",
    "id": "rNdWfPXCjTjY"
   },
   "source": [
    "# Performing Basic Feature Engineering in Keras \n",
    "\n",
    "## Learning objectives\n",
    "\n",
    "\n",
    "1. Create an input pipeline using tf.data.\n",
    "2. Engineer features to create categorical, crossed, and numerical feature columns.\n",
    "\n",
    "\n",
    "## Introduction \n",
    "In this lab, we utilize feature engineering to improve the prediction of housing prices using a Keras Sequential Model.\n",
    "\n",
    "Each learning objective will correspond to a __#TODO__ in the notebook where you will complete the notebook cell's code before running.\n"
   ]
  },
  {
   "cell_type": "markdown",
   "metadata": {
    "id": "hhq5zEbGg0XX"
   },
   "source": [
    "### Restart the kernel\n",
    "\n",
    "After you install the packages, you need to restart the notebook kernel so that it can find the packages. (Click **Kernel > Restart Kernel > Restart**)."
   ]
  },
  {
   "cell_type": "code",
   "execution_count": 1,
   "metadata": {
    "colab": {},
    "colab_type": "code",
    "id": "9dEreb4QKizj",
    "tags": []
   },
   "outputs": [
    {
     "name": "stderr",
     "output_type": "stream",
     "text": [
      "2023-04-03 19:07:27.267592: I tensorflow/core/platform/cpu_feature_guard.cc:193] This TensorFlow binary is optimized with oneAPI Deep Neural Network Library (oneDNN) to use the following CPU instructions in performance-critical operations:  AVX2 FMA\n",
      "To enable them in other operations, rebuild TensorFlow with the appropriate compiler flags.\n"
     ]
    },
    {
     "name": "stdout",
     "output_type": "stream",
     "text": [
      "TensorFlow version:  2.11.1\n"
     ]
    }
   ],
   "source": [
    "import os\n",
    "import tensorflow.keras\n",
    "\n",
    "import matplotlib.pyplot as plt\n",
    "import pandas as pd\n",
    "import tensorflow as tf\n",
    "\n",
    "from tensorflow import feature_column as fc\n",
    "from tensorflow.keras import layers\n",
    "from sklearn.model_selection import train_test_split\n",
    "#from keras.utils import plot_model\n",
    "\n",
    "print(\"TensorFlow version: \",tf.version.VERSION)"
   ]
  },
  {
   "cell_type": "markdown",
   "metadata": {},
   "source": [
    "Many of the Google Machine Learning Courses Programming Exercises use the  [California Housing Dataset](https://developers.google.com/machine-learning/crash-course/california-housing-data-description\n",
    "), which contains data drawn from the 1990 U.S. Census.  Our lab dataset has been pre-processed so that there are no missing values.\n",
    "\n",
    "First, let's download the raw .csv data by copying the data from a cloud storage bucket.\n"
   ]
  },
  {
   "cell_type": "code",
   "execution_count": 2,
   "metadata": {
    "tags": []
   },
   "outputs": [],
   "source": [
    "if not os.path.isdir(\"data\"):\n",
    "    os.makedirs(\"data\")"
   ]
  },
  {
   "cell_type": "code",
   "execution_count": 3,
   "metadata": {
    "tags": []
   },
   "outputs": [
    {
     "name": "stdout",
     "output_type": "stream",
     "text": [
      "total 0\n",
      "drwxr-xr-x  6 mamoutoufofana  staff  192  3 avr 17:48 \u001b[34mnyc_house\u001b[m\u001b[m\n",
      "drwxr-xr-x  4 mamoutoufofana  staff  128  3 avr 17:48 \u001b[34mnyc_taxi\u001b[m\u001b[m\n"
     ]
    }
   ],
   "source": [
    "!ls -l data/"
   ]
  },
  {
   "cell_type": "markdown",
   "metadata": {
    "colab_type": "text",
    "id": "lM6-n6xntv3t"
   },
   "source": [
    "Now, let's read in the dataset just copied from the cloud storage bucket and create a Pandas dataframe."
   ]
  },
  {
   "cell_type": "code",
   "execution_count": 4,
   "metadata": {
    "colab": {
     "base_uri": "https://localhost:8080/",
     "height": 222
    },
    "colab_type": "code",
    "id": "REZ57BXCLdfG",
    "outputId": "a6ef2eda-c7eb-4e2d-92e4-e7fcaa20b0af",
    "tags": []
   },
   "outputs": [
    {
     "data": {
      "text/html": [
       "<div>\n",
       "<style scoped>\n",
       "    .dataframe tbody tr th:only-of-type {\n",
       "        vertical-align: middle;\n",
       "    }\n",
       "\n",
       "    .dataframe tbody tr th {\n",
       "        vertical-align: top;\n",
       "    }\n",
       "\n",
       "    .dataframe thead th {\n",
       "        text-align: right;\n",
       "    }\n",
       "</style>\n",
       "<table border=\"1\" class=\"dataframe\">\n",
       "  <thead>\n",
       "    <tr style=\"text-align: right;\">\n",
       "      <th></th>\n",
       "      <th>longitude</th>\n",
       "      <th>latitude</th>\n",
       "      <th>housing_median_age</th>\n",
       "      <th>total_rooms</th>\n",
       "      <th>total_bedrooms</th>\n",
       "      <th>population</th>\n",
       "      <th>households</th>\n",
       "      <th>median_income</th>\n",
       "      <th>median_house_value</th>\n",
       "      <th>ocean_proximity</th>\n",
       "    </tr>\n",
       "  </thead>\n",
       "  <tbody>\n",
       "    <tr>\n",
       "      <th>0</th>\n",
       "      <td>-122.23</td>\n",
       "      <td>37.88</td>\n",
       "      <td>41</td>\n",
       "      <td>880</td>\n",
       "      <td>129</td>\n",
       "      <td>322</td>\n",
       "      <td>126</td>\n",
       "      <td>8.3252</td>\n",
       "      <td>452600</td>\n",
       "      <td>NEAR BAY</td>\n",
       "    </tr>\n",
       "    <tr>\n",
       "      <th>1</th>\n",
       "      <td>-122.22</td>\n",
       "      <td>37.86</td>\n",
       "      <td>21</td>\n",
       "      <td>7099</td>\n",
       "      <td>1106</td>\n",
       "      <td>2401</td>\n",
       "      <td>1138</td>\n",
       "      <td>8.3014</td>\n",
       "      <td>358500</td>\n",
       "      <td>NEAR BAY</td>\n",
       "    </tr>\n",
       "    <tr>\n",
       "      <th>2</th>\n",
       "      <td>-122.24</td>\n",
       "      <td>37.85</td>\n",
       "      <td>52</td>\n",
       "      <td>1467</td>\n",
       "      <td>190</td>\n",
       "      <td>496</td>\n",
       "      <td>177</td>\n",
       "      <td>7.2574</td>\n",
       "      <td>352100</td>\n",
       "      <td>NEAR BAY</td>\n",
       "    </tr>\n",
       "    <tr>\n",
       "      <th>3</th>\n",
       "      <td>-122.25</td>\n",
       "      <td>37.85</td>\n",
       "      <td>52</td>\n",
       "      <td>1274</td>\n",
       "      <td>235</td>\n",
       "      <td>558</td>\n",
       "      <td>219</td>\n",
       "      <td>5.6431</td>\n",
       "      <td>341300</td>\n",
       "      <td>NEAR BAY</td>\n",
       "    </tr>\n",
       "    <tr>\n",
       "      <th>4</th>\n",
       "      <td>-122.25</td>\n",
       "      <td>37.85</td>\n",
       "      <td>52</td>\n",
       "      <td>1627</td>\n",
       "      <td>280</td>\n",
       "      <td>565</td>\n",
       "      <td>259</td>\n",
       "      <td>3.8462</td>\n",
       "      <td>342200</td>\n",
       "      <td>NEAR BAY</td>\n",
       "    </tr>\n",
       "  </tbody>\n",
       "</table>\n",
       "</div>"
      ],
      "text/plain": [
       "   longitude  latitude  housing_median_age  total_rooms  total_bedrooms   \n",
       "0    -122.23     37.88                  41          880             129  \\\n",
       "1    -122.22     37.86                  21         7099            1106   \n",
       "2    -122.24     37.85                  52         1467             190   \n",
       "3    -122.25     37.85                  52         1274             235   \n",
       "4    -122.25     37.85                  52         1627             280   \n",
       "\n",
       "   population  households  median_income  median_house_value ocean_proximity  \n",
       "0         322         126         8.3252              452600        NEAR BAY  \n",
       "1        2401        1138         8.3014              358500        NEAR BAY  \n",
       "2         496         177         7.2574              352100        NEAR BAY  \n",
       "3         558         219         5.6431              341300        NEAR BAY  \n",
       "4         565         259         3.8462              342200        NEAR BAY  "
      ]
     },
     "execution_count": 4,
     "metadata": {},
     "output_type": "execute_result"
    }
   ],
   "source": [
    "housing_df = pd.read_csv('data/nyc_house/housing_pre-proc_toy.csv')\n",
    "housing_df.head()"
   ]
  },
  {
   "cell_type": "markdown",
   "metadata": {},
   "source": [
    "We can use .describe() to see some summary statistics for the numeric fields in our dataframe. Note, for example, the count row and corresponding columns. The count shows 2500.000000 for all feature columns. Thus, there are no missing values."
   ]
  },
  {
   "cell_type": "code",
   "execution_count": 5,
   "metadata": {
    "tags": []
   },
   "outputs": [
    {
     "data": {
      "text/html": [
       "<div>\n",
       "<style scoped>\n",
       "    .dataframe tbody tr th:only-of-type {\n",
       "        vertical-align: middle;\n",
       "    }\n",
       "\n",
       "    .dataframe tbody tr th {\n",
       "        vertical-align: top;\n",
       "    }\n",
       "\n",
       "    .dataframe thead th {\n",
       "        text-align: right;\n",
       "    }\n",
       "</style>\n",
       "<table border=\"1\" class=\"dataframe\">\n",
       "  <thead>\n",
       "    <tr style=\"text-align: right;\">\n",
       "      <th></th>\n",
       "      <th>longitude</th>\n",
       "      <th>latitude</th>\n",
       "      <th>housing_median_age</th>\n",
       "      <th>total_rooms</th>\n",
       "      <th>total_bedrooms</th>\n",
       "      <th>population</th>\n",
       "      <th>households</th>\n",
       "      <th>median_income</th>\n",
       "      <th>median_house_value</th>\n",
       "    </tr>\n",
       "  </thead>\n",
       "  <tbody>\n",
       "    <tr>\n",
       "      <th>count</th>\n",
       "      <td>2500.000000</td>\n",
       "      <td>2500.000000</td>\n",
       "      <td>2500.000000</td>\n",
       "      <td>2500.000000</td>\n",
       "      <td>2500.000000</td>\n",
       "      <td>2500.000000</td>\n",
       "      <td>2500.000000</td>\n",
       "      <td>2500.000000</td>\n",
       "      <td>2500.000000</td>\n",
       "    </tr>\n",
       "    <tr>\n",
       "      <th>mean</th>\n",
       "      <td>-121.501836</td>\n",
       "      <td>37.802288</td>\n",
       "      <td>30.088400</td>\n",
       "      <td>2522.734000</td>\n",
       "      <td>491.862400</td>\n",
       "      <td>1246.225200</td>\n",
       "      <td>458.122000</td>\n",
       "      <td>3.694312</td>\n",
       "      <td>170288.731200</td>\n",
       "    </tr>\n",
       "    <tr>\n",
       "      <th>std</th>\n",
       "      <td>1.015963</td>\n",
       "      <td>0.803090</td>\n",
       "      <td>13.878416</td>\n",
       "      <td>1988.411988</td>\n",
       "      <td>362.499497</td>\n",
       "      <td>925.075463</td>\n",
       "      <td>341.744308</td>\n",
       "      <td>1.859422</td>\n",
       "      <td>97550.278529</td>\n",
       "    </tr>\n",
       "    <tr>\n",
       "      <th>min</th>\n",
       "      <td>-124.300000</td>\n",
       "      <td>36.130000</td>\n",
       "      <td>2.000000</td>\n",
       "      <td>12.000000</td>\n",
       "      <td>4.000000</td>\n",
       "      <td>18.000000</td>\n",
       "      <td>2.000000</td>\n",
       "      <td>0.499900</td>\n",
       "      <td>22500.000000</td>\n",
       "    </tr>\n",
       "    <tr>\n",
       "      <th>25%</th>\n",
       "      <td>-122.200000</td>\n",
       "      <td>37.600000</td>\n",
       "      <td>18.000000</td>\n",
       "      <td>1420.750000</td>\n",
       "      <td>282.000000</td>\n",
       "      <td>718.000000</td>\n",
       "      <td>263.000000</td>\n",
       "      <td>2.357875</td>\n",
       "      <td>92950.000000</td>\n",
       "    </tr>\n",
       "    <tr>\n",
       "      <th>50%</th>\n",
       "      <td>-122.030000</td>\n",
       "      <td>37.800000</td>\n",
       "      <td>30.000000</td>\n",
       "      <td>2052.000000</td>\n",
       "      <td>402.000000</td>\n",
       "      <td>1030.500000</td>\n",
       "      <td>374.500000</td>\n",
       "      <td>3.262200</td>\n",
       "      <td>150800.000000</td>\n",
       "    </tr>\n",
       "    <tr>\n",
       "      <th>75%</th>\n",
       "      <td>-120.697500</td>\n",
       "      <td>37.960000</td>\n",
       "      <td>41.000000</td>\n",
       "      <td>3007.250000</td>\n",
       "      <td>581.250000</td>\n",
       "      <td>1488.250000</td>\n",
       "      <td>538.000000</td>\n",
       "      <td>4.662975</td>\n",
       "      <td>219650.000000</td>\n",
       "    </tr>\n",
       "    <tr>\n",
       "      <th>max</th>\n",
       "      <td>-118.910000</td>\n",
       "      <td>41.950000</td>\n",
       "      <td>52.000000</td>\n",
       "      <td>28258.000000</td>\n",
       "      <td>3864.000000</td>\n",
       "      <td>12203.000000</td>\n",
       "      <td>3701.000000</td>\n",
       "      <td>15.000100</td>\n",
       "      <td>500001.000000</td>\n",
       "    </tr>\n",
       "  </tbody>\n",
       "</table>\n",
       "</div>"
      ],
      "text/plain": [
       "         longitude     latitude  housing_median_age   total_rooms   \n",
       "count  2500.000000  2500.000000         2500.000000   2500.000000  \\\n",
       "mean   -121.501836    37.802288           30.088400   2522.734000   \n",
       "std       1.015963     0.803090           13.878416   1988.411988   \n",
       "min    -124.300000    36.130000            2.000000     12.000000   \n",
       "25%    -122.200000    37.600000           18.000000   1420.750000   \n",
       "50%    -122.030000    37.800000           30.000000   2052.000000   \n",
       "75%    -120.697500    37.960000           41.000000   3007.250000   \n",
       "max    -118.910000    41.950000           52.000000  28258.000000   \n",
       "\n",
       "       total_bedrooms    population   households  median_income   \n",
       "count     2500.000000   2500.000000  2500.000000    2500.000000  \\\n",
       "mean       491.862400   1246.225200   458.122000       3.694312   \n",
       "std        362.499497    925.075463   341.744308       1.859422   \n",
       "min          4.000000     18.000000     2.000000       0.499900   \n",
       "25%        282.000000    718.000000   263.000000       2.357875   \n",
       "50%        402.000000   1030.500000   374.500000       3.262200   \n",
       "75%        581.250000   1488.250000   538.000000       4.662975   \n",
       "max       3864.000000  12203.000000  3701.000000      15.000100   \n",
       "\n",
       "       median_house_value  \n",
       "count         2500.000000  \n",
       "mean        170288.731200  \n",
       "std          97550.278529  \n",
       "min          22500.000000  \n",
       "25%          92950.000000  \n",
       "50%         150800.000000  \n",
       "75%         219650.000000  \n",
       "max         500001.000000  "
      ]
     },
     "execution_count": 5,
     "metadata": {},
     "output_type": "execute_result"
    }
   ],
   "source": [
    "housing_df.describe()"
   ]
  },
  {
   "cell_type": "markdown",
   "metadata": {
    "colab_type": "text",
    "id": "u0zhLtQqMPem"
   },
   "source": [
    "####  Split the dataset for ML\n",
    "\n",
    "The dataset we loaded was a single CSV file. We will split this into train, validation, and test sets.\n"
   ]
  },
  {
   "cell_type": "code",
   "execution_count": 6,
   "metadata": {
    "colab": {
     "base_uri": "https://localhost:8080/",
     "height": 69
    },
    "colab_type": "code",
    "id": "YEOpw7LhMYsI",
    "outputId": "6161a660-7133-465a-d754-d7acae2b68c8",
    "tags": []
   },
   "outputs": [
    {
     "name": "stdout",
     "output_type": "stream",
     "text": [
      "1600 train examples\n",
      "400 validation examples\n",
      "500 test examples\n"
     ]
    }
   ],
   "source": [
    "train, test = train_test_split(housing_df, test_size=0.2)\n",
    "train, val = train_test_split(train, test_size=0.2)\n",
    "\n",
    "print(len(train), 'train examples')\n",
    "print(len(val), 'validation examples')\n",
    "print(len(test), 'test examples')"
   ]
  },
  {
   "cell_type": "markdown",
   "metadata": {
    "colab_type": "text",
    "id": "dz9kfjOMBX9U"
   },
   "source": [
    "Now, we need to output the split files.  We will specifically need the test.csv later for testing.  You should see the files appear in the home directory.\n"
   ]
  },
  {
   "cell_type": "code",
   "execution_count": 7,
   "metadata": {
    "colab": {
     "base_uri": "https://localhost:8080/",
     "height": 222
    },
    "colab_type": "code",
    "id": "ADX23QUu_Wiu",
    "outputId": "e97fa59e-4ed4-48a3-8fba-c95f293944ee",
    "tags": []
   },
   "outputs": [],
   "source": [
    "train.to_csv('data/nyc_house/housing-train.csv', encoding='utf-8', index=False)"
   ]
  },
  {
   "cell_type": "code",
   "execution_count": 8,
   "metadata": {
    "tags": []
   },
   "outputs": [],
   "source": [
    "val.to_csv('data/nyc_house/housing-val.csv', encoding='utf-8', index=False)"
   ]
  },
  {
   "cell_type": "code",
   "execution_count": 9,
   "metadata": {
    "colab": {
     "base_uri": "https://localhost:8080/",
     "height": 222
    },
    "colab_type": "code",
    "id": "CU1FgmKEAmWh",
    "outputId": "2cce91e1-2c4a-4fe8-a6c3-3da52cb9458f",
    "tags": []
   },
   "outputs": [],
   "source": [
    "test.to_csv('data/nyc_house/housing-test.csv', encoding='utf-8', index=False)"
   ]
  },
  {
   "cell_type": "code",
   "execution_count": 10,
   "metadata": {
    "tags": []
   },
   "outputs": [
    {
     "name": "stdout",
     "output_type": "stream",
     "text": [
      "==> data/nyc_house/housing-test.csv <==\n",
      "longitude,latitude,housing_median_age,total_rooms,total_bedrooms,population,households,median_income,median_house_value,ocean_proximity\n",
      "-122.34,37.93,45,2225,486,1304,459,2.64,112100,NEAR BAY\n",
      "-119.4,36.59,37,1486,296,977,290,3.5074,93800,INLAND\n",
      "-122.29,37.88,52,2159,424,824,388,3.8897,218400,NEAR BAY\n",
      "-119.73,36.73,9,1621,428,678,394,2.2437,54200,INLAND\n",
      "-120.3,38.9,11,1961,435,113,53,0.9227,95500,INLAND\n",
      "-122.29,37.91,46,2085,346,748,354,4.0536,262000,NEAR BAY\n",
      "-120.9,38.2,16,3120,641,1319,526,2.0472,93200,INLAND\n",
      "-119.82,36.64,30,1694,312,1008,321,2.2466,96000,INLAND\n",
      "-121.59,39.78,16,2754,570,1063,543,1.4048,86500,INLAND\n",
      "\n",
      "==> data/nyc_house/housing-train.csv <==\n",
      "longitude,latitude,housing_median_age,total_rooms,total_bedrooms,population,households,median_income,median_house_value,ocean_proximity\n",
      "-121.82,39.75,29,7744,1375,3316,1365,3.0253,111400,INLAND\n",
      "-121.92,37.68,23,1655,223,706,219,7.2211,291900,<1H OCEAN\n",
      "-122.04,37.62,35,899,179,455,185,4.2857,190400,NEAR BAY\n",
      "-122.29,37.81,46,2801,644,1823,611,0.9802,129200,NEAR BAY\n",
      "-121.99,37.56,18,5505,1005,2641,971,5.0,269700,<1H OCEAN\n",
      "-120.37,38.23,13,4401,829,924,383,2.6942,123500,INLAND\n",
      "-121.97,39.79,16,1453,299,904,286,3.5735,89600,INLAND\n",
      "-121.96,37.71,6,8072,1050,3386,1062,7.2494,336500,<1H OCEAN\n",
      "-122.36,37.94,27,844,249,583,265,0.9687,105800,NEAR BAY\n",
      "\n",
      "==> data/nyc_house/housing-val.csv <==\n",
      "longitude,latitude,housing_median_age,total_rooms,total_bedrooms,population,households,median_income,median_house_value,ocean_proximity\n",
      "-122.29,37.89,52,1571,349,693,326,3.1375,229100,NEAR BAY\n",
      "-122.33,37.95,45,1585,329,981,373,3.0313,135800,NEAR BAY\n",
      "-121.92,37.72,22,4638,716,2302,687,5.347,219500,<1H OCEAN\n",
      "-122.23,37.75,50,1542,289,654,268,3.9632,240000,NEAR BAY\n",
      "-121.96,37.94,26,3084,505,1557,501,5.1582,194700,INLAND\n",
      "-121.94,37.8,8,11336,1657,4089,1555,7.8287,369200,<1H OCEAN\n",
      "-122.08,37.87,24,6130,1359,1750,1286,2.9167,102700,NEAR BAY\n",
      "-119.96,38.84,17,2722,512,828,289,3.5714,109700,INLAND\n",
      "-122.27,37.82,43,1007,312,558,253,1.7348,137500,NEAR BAY\n",
      "\n",
      "==> data/nyc_house/housing_pre-proc_toy.csv <==\n",
      "longitude,latitude,housing_median_age,total_rooms,total_bedrooms,population,households,median_income,median_house_value,ocean_proximity\n",
      "-122.23,37.88,41,880,129,322,126,8.3252,452600,NEAR BAY\n",
      "-122.22,37.86,21,7099,1106,2401,1138,8.3014,358500,NEAR BAY\n",
      "-122.24,37.85,52,1467,190,496,177,7.2574,352100,NEAR BAY\n",
      "-122.25,37.85,52,1274,235,558,219,5.6431,341300,NEAR BAY\n",
      "-122.25,37.85,52,1627,280,565,259,3.8462,342200,NEAR BAY\n",
      "-122.25,37.85,52,919,213,413,193,4.0368,269700,NEAR BAY\n",
      "-122.25,37.84,52,2535,489,1094,514,3.6591,299200,NEAR BAY\n",
      "-122.25,37.84,52,3104,687,1157,647,3.12,241400,NEAR BAY\n",
      "-122.26,37.84,42,2555,665,1206,595,2.0804,226700,NEAR BAY\n"
     ]
    }
   ],
   "source": [
    "!head data/nyc_house/housing*.csv"
   ]
  },
  {
   "cell_type": "markdown",
   "metadata": {
    "colab_type": "text",
    "id": "Aj35eYy_lutI"
   },
   "source": [
    "## Lab Task 1: Create an input pipeline using tf.data"
   ]
  },
  {
   "cell_type": "markdown",
   "metadata": {
    "colab_type": "text",
    "id": "84ef46LXMfvu"
   },
   "source": [
    "Next, we will wrap the dataframes with [tf.data](https://www.tensorflow.org/guide/datasets). This will enable us  to use feature columns as a bridge to map from the columns in the Pandas dataframe to features used to train the model. \n",
    "\n",
    "Here, we create an input pipeline using tf.data.  This function is missing two lines.  Correct and run the cell."
   ]
  },
  {
   "cell_type": "code",
   "execution_count": 11,
   "metadata": {
    "tags": []
   },
   "outputs": [],
   "source": [
    "# A utility method to create a tf.data dataset from a Pandas Dataframe\n",
    "\n",
    "def df_to_dataset(dataframe, shuffle=True, batch_size=32):\n",
    "    dataframe = dataframe.copy()\n",
    "    \n",
    "    labels = dataframe.pop('median_house_value')\n",
    "    ds = tf.data.Dataset.from_tensor_slices((dict(dataframe), labels))\n",
    "    \n",
    "    if shuffle:\n",
    "        ds = ds.shuffle(buffer_size=len(dataframe))\n",
    "    ds = ds.batch(batch_size)\n",
    "    return ds"
   ]
  },
  {
   "cell_type": "markdown",
   "metadata": {},
   "source": [
    "Next we initialize the training and validation datasets."
   ]
  },
  {
   "cell_type": "code",
   "execution_count": 12,
   "metadata": {
    "tags": []
   },
   "outputs": [
    {
     "name": "stderr",
     "output_type": "stream",
     "text": [
      "2023-04-03 19:00:56.720574: I tensorflow/core/platform/cpu_feature_guard.cc:193] This TensorFlow binary is optimized with oneAPI Deep Neural Network Library (oneDNN) to use the following CPU instructions in performance-critical operations:  AVX2 FMA\n",
      "To enable them in other operations, rebuild TensorFlow with the appropriate compiler flags.\n"
     ]
    }
   ],
   "source": [
    "batch_size = 32\n",
    "train_ds = df_to_dataset(train)\n",
    "val_ds = df_to_dataset(val, shuffle=False, batch_size=batch_size)"
   ]
  },
  {
   "cell_type": "markdown",
   "metadata": {
    "colab_type": "text",
    "id": "qRLGSMDzM-dl"
   },
   "source": [
    "Now that we have created the input pipeline, let's call it to see the format of the data it returns. We have used a small batch size to keep the output readable."
   ]
  },
  {
   "cell_type": "code",
   "execution_count": 13,
   "metadata": {
    "colab": {
     "base_uri": "https://localhost:8080/",
     "height": 331
    },
    "colab_type": "code",
    "id": "CSBo3dUVNFc9",
    "outputId": "d1be2646-b1e5-4110-dbba-5bc49d9b30f6",
    "tags": []
   },
   "outputs": [
    {
     "name": "stdout",
     "output_type": "stream",
     "text": [
      "Every feature: ['longitude', 'latitude', 'housing_median_age', 'total_rooms', 'total_bedrooms', 'population', 'households', 'median_income', 'ocean_proximity']\n"
     ]
    }
   ],
   "source": [
    "# TODO 1b -- Your code here\n",
    "for feature_batch, labels in train_ds.take(1):\n",
    "    print('Every feature:', list(feature_batch.keys()))"
   ]
  },
  {
   "cell_type": "markdown",
   "metadata": {
    "colab_type": "text",
    "id": "OT5N6Se-NQsC"
   },
   "source": [
    "We can see that the dataset returns a dictionary of column names (from the dataframe) that map to column values from rows in the dataframe."
   ]
  },
  {
   "cell_type": "markdown",
   "metadata": {
    "colab_type": "text",
    "id": "YEGEAqaziwfC"
   },
   "source": [
    "#### Numeric columns\n",
    "The output of a feature column becomes the input to the model. A numeric is the simplest type of column. It is used to represent real valued features. When using this column, your model will receive the column value from the dataframe unchanged.\n",
    "\n",
    "In the California housing prices dataset, most columns from the dataframe are numeric.  Let' create a variable called **numeric_cols** to hold only the numerical feature columns."
   ]
  },
  {
   "cell_type": "code",
   "execution_count": 14,
   "metadata": {
    "tags": []
   },
   "outputs": [],
   "source": [
    "# TODO 1c -- Your code here\n",
    "numeric_cols = ['longitude', \n",
    "                'latitude', \n",
    "                'housing_median_age', \n",
    "                'total_rooms', \n",
    "                'total_bedrooms', \n",
    "                'population', \n",
    "                'households', \n",
    "                'median_income']\n",
    "# 'ocean_proximity'"
   ]
  },
  {
   "cell_type": "markdown",
   "metadata": {
    "colab_type": "text",
    "id": "EwMEcH_52JT8"
   },
   "source": [
    "#### Scaler function\n",
    "It is very important for numerical variables to get scaled before they are \"fed\" into the neural network. Here we use min-max scaling. Here we are creating a function named 'get_scal' which takes a list of numerical features and returns a 'minmax' function, which will be used in tf.feature_column.numeric_column() as normalizer_fn in parameters. 'Minmax' function itself takes a 'numerical' number from a particular feature and return scaled value of that number. "
   ]
  },
  {
   "cell_type": "markdown",
   "metadata": {
    "colab_type": "text",
    "id": "ig1k5ovWBnN8"
   },
   "source": [
    "Next, we scale the numerical feature columns that we assigned to the variable \"numeric cols\"."
   ]
  },
  {
   "cell_type": "code",
   "execution_count": 15,
   "metadata": {
    "tags": []
   },
   "outputs": [],
   "source": [
    "# Scalar def get_scal(feature):\n",
    "# TODO 1d -- Your code here\n",
    "def get_scal(feature):\n",
    "    def minmax(x):\n",
    "        mini = train[x].min()\n",
    "        maxi = train[x].max()\n",
    "        x_scaled = (x - mini)/(maxi-mini)\n",
    "        return x_scaled\n",
    "        return minmax(feature)"
   ]
  },
  {
   "cell_type": "code",
   "execution_count": 16,
   "metadata": {
    "colab": {},
    "colab_type": "code",
    "id": "Y8IUfcuVaS_g",
    "tags": []
   },
   "outputs": [],
   "source": [
    "# TODO 1e -- Your code here\n",
    "feature_columns = []\n",
    "for header in numeric_cols:\n",
    "    scal_input_fn = get_scal(header)\n",
    "    feature_columns.append(fc.numeric_column(header,\n",
    "                                             normalizer_fn=scal_input_fn))\n"
   ]
  },
  {
   "cell_type": "markdown",
   "metadata": {
    "colab_type": "text",
    "id": "8v9XoD7WCKRM"
   },
   "source": [
    "Next, we should validate the total number of feature columns.  Compare this number to the number of numeric features you input earlier."
   ]
  },
  {
   "cell_type": "code",
   "execution_count": 17,
   "metadata": {
    "colab": {
     "base_uri": "https://localhost:8080/",
     "height": 34
    },
    "colab_type": "code",
    "id": "4jgPFThi50sS",
    "outputId": "23ede6f5-a62a-4767-b3a6-fe8a3b89a212",
    "tags": []
   },
   "outputs": [
    {
     "name": "stdout",
     "output_type": "stream",
     "text": [
      "Total number of feature coLumns:  8\n"
     ]
    }
   ],
   "source": [
    "print('Total number of feature coLumns: ', len(feature_columns))"
   ]
  },
  {
   "cell_type": "markdown",
   "metadata": {
    "colab_type": "text",
    "id": "9Ug3hB8Sl0jO"
   },
   "source": [
    "### Using the Keras Sequential Model\n",
    "\n",
    "Next, we will run this cell to compile and fit the Keras Sequential model."
   ]
  },
  {
   "cell_type": "code",
   "execution_count": 18,
   "metadata": {
    "colab": {
     "base_uri": "https://localhost:8080/",
     "height": 1000
    },
    "colab_type": "code",
    "id": "_YJPPb3xTPeZ",
    "outputId": "2d445722-1d43-4a27-a6c0-c6ce813ab450",
    "tags": []
   },
   "outputs": [
    {
     "name": "stdout",
     "output_type": "stream",
     "text": [
      "Epoch 1/32\n",
      "WARNING:tensorflow:Layers in a Sequential model should only have a single input tensor. Received: inputs={'longitude': <tf.Tensor 'IteratorGetNext:3' shape=(None,) dtype=float64>, 'latitude': <tf.Tensor 'IteratorGetNext:2' shape=(None,) dtype=float64>, 'housing_median_age': <tf.Tensor 'IteratorGetNext:1' shape=(None,) dtype=int64>, 'total_rooms': <tf.Tensor 'IteratorGetNext:8' shape=(None,) dtype=int64>, 'total_bedrooms': <tf.Tensor 'IteratorGetNext:7' shape=(None,) dtype=int64>, 'population': <tf.Tensor 'IteratorGetNext:6' shape=(None,) dtype=int64>, 'households': <tf.Tensor 'IteratorGetNext:0' shape=(None,) dtype=int64>, 'median_income': <tf.Tensor 'IteratorGetNext:4' shape=(None,) dtype=float64>, 'ocean_proximity': <tf.Tensor 'IteratorGetNext:5' shape=(None,) dtype=string>}. Consider rewriting this model with the Functional API.\n",
      "WARNING:tensorflow:Layers in a Sequential model should only have a single input tensor. Received: inputs={'longitude': <tf.Tensor 'IteratorGetNext:3' shape=(None,) dtype=float64>, 'latitude': <tf.Tensor 'IteratorGetNext:2' shape=(None,) dtype=float64>, 'housing_median_age': <tf.Tensor 'IteratorGetNext:1' shape=(None,) dtype=int64>, 'total_rooms': <tf.Tensor 'IteratorGetNext:8' shape=(None,) dtype=int64>, 'total_bedrooms': <tf.Tensor 'IteratorGetNext:7' shape=(None,) dtype=int64>, 'population': <tf.Tensor 'IteratorGetNext:6' shape=(None,) dtype=int64>, 'households': <tf.Tensor 'IteratorGetNext:0' shape=(None,) dtype=int64>, 'median_income': <tf.Tensor 'IteratorGetNext:4' shape=(None,) dtype=float64>, 'ocean_proximity': <tf.Tensor 'IteratorGetNext:5' shape=(None,) dtype=string>}. Consider rewriting this model with the Functional API.\n",
      "49/50 [============================>.] - ETA: 0s - loss: 37276450816.0000 - mse: 37276450816.0000WARNING:tensorflow:Layers in a Sequential model should only have a single input tensor. Received: inputs={'longitude': <tf.Tensor 'IteratorGetNext:3' shape=(None,) dtype=float64>, 'latitude': <tf.Tensor 'IteratorGetNext:2' shape=(None,) dtype=float64>, 'housing_median_age': <tf.Tensor 'IteratorGetNext:1' shape=(None,) dtype=int64>, 'total_rooms': <tf.Tensor 'IteratorGetNext:8' shape=(None,) dtype=int64>, 'total_bedrooms': <tf.Tensor 'IteratorGetNext:7' shape=(None,) dtype=int64>, 'population': <tf.Tensor 'IteratorGetNext:6' shape=(None,) dtype=int64>, 'households': <tf.Tensor 'IteratorGetNext:0' shape=(None,) dtype=int64>, 'median_income': <tf.Tensor 'IteratorGetNext:4' shape=(None,) dtype=float64>, 'ocean_proximity': <tf.Tensor 'IteratorGetNext:5' shape=(None,) dtype=string>}. Consider rewriting this model with the Functional API.\n",
      "50/50 [==============================] - 1s 7ms/step - loss: 37356855296.0000 - mse: 37356855296.0000 - val_loss: 38713335808.0000 - val_mse: 38713335808.0000\n",
      "Epoch 2/32\n",
      "50/50 [==============================] - 0s 3ms/step - loss: 36826656768.0000 - mse: 36826656768.0000 - val_loss: 38063177728.0000 - val_mse: 38063177728.0000\n",
      "Epoch 3/32\n",
      "50/50 [==============================] - 0s 3ms/step - loss: 36074790912.0000 - mse: 36074790912.0000 - val_loss: 36975575040.0000 - val_mse: 36975575040.0000\n",
      "Epoch 4/32\n",
      "50/50 [==============================] - 0s 3ms/step - loss: 34740281344.0000 - mse: 34740281344.0000 - val_loss: 35113332736.0000 - val_mse: 35113332736.0000\n",
      "Epoch 5/32\n",
      "50/50 [==============================] - 0s 3ms/step - loss: 32645296128.0000 - mse: 32645296128.0000 - val_loss: 32399970304.0000 - val_mse: 32399970304.0000\n",
      "Epoch 6/32\n",
      "50/50 [==============================] - 0s 3ms/step - loss: 29670133760.0000 - mse: 29670133760.0000 - val_loss: 28576806912.0000 - val_mse: 28576806912.0000\n",
      "Epoch 7/32\n",
      "50/50 [==============================] - 0s 3ms/step - loss: 25871384576.0000 - mse: 25871384576.0000 - val_loss: 24254461952.0000 - val_mse: 24254461952.0000\n",
      "Epoch 8/32\n",
      "50/50 [==============================] - 0s 3ms/step - loss: 21960189952.0000 - mse: 21960189952.0000 - val_loss: 20321681408.0000 - val_mse: 20321681408.0000\n",
      "Epoch 9/32\n",
      "50/50 [==============================] - 0s 4ms/step - loss: 18729555968.0000 - mse: 18729555968.0000 - val_loss: 17383172096.0000 - val_mse: 17383172096.0000\n",
      "Epoch 10/32\n",
      "50/50 [==============================] - 0s 4ms/step - loss: 16614103040.0000 - mse: 16614103040.0000 - val_loss: 15808855040.0000 - val_mse: 15808855040.0000\n",
      "Epoch 11/32\n",
      "50/50 [==============================] - 0s 4ms/step - loss: 15580650496.0000 - mse: 15580650496.0000 - val_loss: 15181852672.0000 - val_mse: 15181852672.0000\n",
      "Epoch 12/32\n",
      "50/50 [==============================] - 0s 4ms/step - loss: 15223229440.0000 - mse: 15223229440.0000 - val_loss: 14985720832.0000 - val_mse: 14985720832.0000\n",
      "Epoch 13/32\n",
      "50/50 [==============================] - 0s 3ms/step - loss: 15110571008.0000 - mse: 15110571008.0000 - val_loss: 14925725696.0000 - val_mse: 14925725696.0000\n",
      "Epoch 14/32\n",
      "50/50 [==============================] - 0s 3ms/step - loss: 15052979200.0000 - mse: 15052979200.0000 - val_loss: 14889694208.0000 - val_mse: 14889694208.0000\n",
      "Epoch 15/32\n",
      "50/50 [==============================] - 0s 3ms/step - loss: 15006865408.0000 - mse: 15006865408.0000 - val_loss: 14856743936.0000 - val_mse: 14856743936.0000\n",
      "Epoch 16/32\n",
      "50/50 [==============================] - 0s 3ms/step - loss: 14968311808.0000 - mse: 14968311808.0000 - val_loss: 14820494336.0000 - val_mse: 14820494336.0000\n",
      "Epoch 17/32\n",
      "50/50 [==============================] - 0s 3ms/step - loss: 14931243008.0000 - mse: 14931243008.0000 - val_loss: 14786720768.0000 - val_mse: 14786720768.0000\n",
      "Epoch 18/32\n",
      "50/50 [==============================] - 0s 3ms/step - loss: 14907024384.0000 - mse: 14907024384.0000 - val_loss: 14747386880.0000 - val_mse: 14747386880.0000\n",
      "Epoch 19/32\n",
      "50/50 [==============================] - 0s 3ms/step - loss: 14856669184.0000 - mse: 14856669184.0000 - val_loss: 14709528576.0000 - val_mse: 14709528576.0000\n",
      "Epoch 20/32\n",
      "50/50 [==============================] - 0s 3ms/step - loss: 14818115584.0000 - mse: 14818115584.0000 - val_loss: 14665256960.0000 - val_mse: 14665256960.0000\n",
      "Epoch 21/32\n",
      "50/50 [==============================] - 0s 3ms/step - loss: 14782308352.0000 - mse: 14782308352.0000 - val_loss: 14621478912.0000 - val_mse: 14621478912.0000\n",
      "Epoch 22/32\n",
      "50/50 [==============================] - 0s 3ms/step - loss: 14711455744.0000 - mse: 14711455744.0000 - val_loss: 14570754048.0000 - val_mse: 14570754048.0000\n",
      "Epoch 23/32\n",
      "50/50 [==============================] - 0s 5ms/step - loss: 14668858368.0000 - mse: 14668858368.0000 - val_loss: 14521380864.0000 - val_mse: 14521380864.0000\n",
      "Epoch 24/32\n",
      "50/50 [==============================] - 0s 4ms/step - loss: 14625056768.0000 - mse: 14625056768.0000 - val_loss: 14478698496.0000 - val_mse: 14478698496.0000\n",
      "Epoch 25/32\n",
      "50/50 [==============================] - 0s 3ms/step - loss: 14576485376.0000 - mse: 14576485376.0000 - val_loss: 14425474048.0000 - val_mse: 14425474048.0000\n",
      "Epoch 26/32\n",
      "50/50 [==============================] - 0s 3ms/step - loss: 14517972992.0000 - mse: 14517972992.0000 - val_loss: 14374932480.0000 - val_mse: 14374932480.0000\n",
      "Epoch 27/32\n",
      "50/50 [==============================] - 0s 3ms/step - loss: 14478523392.0000 - mse: 14478523392.0000 - val_loss: 14321033216.0000 - val_mse: 14321033216.0000\n",
      "Epoch 28/32\n",
      "50/50 [==============================] - 0s 3ms/step - loss: 14433314816.0000 - mse: 14433314816.0000 - val_loss: 14269802496.0000 - val_mse: 14269802496.0000\n",
      "Epoch 29/32\n",
      "50/50 [==============================] - 0s 5ms/step - loss: 14366352384.0000 - mse: 14366352384.0000 - val_loss: 14222714880.0000 - val_mse: 14222714880.0000\n",
      "Epoch 30/32\n",
      "50/50 [==============================] - 0s 3ms/step - loss: 14319118336.0000 - mse: 14319118336.0000 - val_loss: 14163922944.0000 - val_mse: 14163922944.0000\n",
      "Epoch 31/32\n",
      "50/50 [==============================] - 0s 3ms/step - loss: 14252389376.0000 - mse: 14252389376.0000 - val_loss: 14107864064.0000 - val_mse: 14107864064.0000\n",
      "Epoch 32/32\n",
      "50/50 [==============================] - 0s 3ms/step - loss: 14200204288.0000 - mse: 14200204288.0000 - val_loss: 14051031040.0000 - val_mse: 14051031040.0000\n"
     ]
    }
   ],
   "source": [
    "# Model create\n",
    "feature_layer = tf.keras.layers.DenseFeatures(feature_columns, dtype='float64')\n",
    "\n",
    "model = tf.keras.Sequential([\n",
    "  feature_layer,\n",
    "  layers.Dense(12, input_dim=8, activation='relu'),\n",
    "  layers.Dense(8, activation='relu'),\n",
    "  layers.Dense(1, activation='linear',  name='median_house_value')\n",
    "])\n",
    "\n",
    "# Model compile\n",
    "model.compile(optimizer='adam',\n",
    "              loss='mse',\n",
    "              metrics=['mse'])\n",
    "\n",
    "# Model Fit\n",
    "history = model.fit(train_ds,\n",
    "                    validation_data=val_ds,\n",
    "                    epochs=32)"
   ]
  },
  {
   "cell_type": "markdown",
   "metadata": {},
   "source": [
    "Next we show loss as  Mean Square Error (MSE).  Remember that MSE is the most commonly used regression loss function. MSE is the sum of squared distances between our target variable (e.g. housing median age) and predicted values."
   ]
  },
  {
   "cell_type": "code",
   "execution_count": 19,
   "metadata": {
    "colab": {
     "base_uri": "https://localhost:8080/",
     "height": 71
    },
    "colab_type": "code",
    "id": "vo7hhkPqm6Jx",
    "outputId": "938907f6-b6c8-497c-a8f6-0f1cdbf336c9",
    "tags": []
   },
   "outputs": [
    {
     "name": "stdout",
     "output_type": "stream",
     "text": [
      "50/50 [==============================] - 0s 3ms/step - loss: 14157620224.0000 - mse: 14157620224.0000\n",
      "Mean Squared Error 14157620224.0\n"
     ]
    }
   ],
   "source": [
    "loss, mse = model.evaluate(train_ds)\n",
    "print(\"Mean Squared Error\", mse)"
   ]
  },
  {
   "cell_type": "markdown",
   "metadata": {
    "colab_type": "text",
    "id": "252EPxGp7-FJ"
   },
   "source": [
    "#### Visualize the model loss curve\n",
    "\n",
    "Next, we will use matplotlib to draw the model's loss curves for training and validation.  A line plot is also created showing the mean squared error loss over the training epochs for both the train (blue) and test (orange) sets."
   ]
  },
  {
   "cell_type": "code",
   "execution_count": 20,
   "metadata": {
    "tags": []
   },
   "outputs": [],
   "source": [
    "def plot_curves(history, metrics):\n",
    "    nrows = 1\n",
    "    ncols = 2\n",
    "    fig = plt.figure(figsize=(10, 5))\n",
    "\n",
    "    for idx, key in enumerate(metrics):  \n",
    "        ax = fig.add_subplot(nrows, ncols, idx+1)\n",
    "        plt.plot(history.history[key])\n",
    "        plt.plot(history.history['val_{}'.format(key)])\n",
    "        plt.title('model {}'.format(key))\n",
    "        plt.ylabel(key)\n",
    "        plt.xlabel('epoch')\n",
    "        plt.legend(['train', 'validation'], loc='upper left');  "
   ]
  },
  {
   "cell_type": "code",
   "execution_count": 21,
   "metadata": {
    "tags": []
   },
   "outputs": [
    {
     "data": {
      "image/png": "[encoded data removed]",
      "text/plain": [
       "<Figure size 1000x500 with 2 Axes>"
      ]
     },
     "metadata": {},
     "output_type": "display_data"
    }
   ],
   "source": [
    "plot_curves(history, ['loss', 'mse'])"
   ]
  },
  {
   "cell_type": "markdown",
   "metadata": {
    "colab_type": "text",
    "id": "wqkozY268xi7"
   },
   "source": [
    "### Load test data"
   ]
  },
  {
   "cell_type": "markdown",
   "metadata": {
    "colab_type": "text",
    "id": "uf4TyVJ_Dzxe"
   },
   "source": [
    "Next, we read in the test.csv file and validate that there are no null values.  "
   ]
  },
  {
   "cell_type": "markdown",
   "metadata": {},
   "source": [
    "Again, we can use .describe() to see some summary statistics for the numeric fields in our dataframe.  The count shows 500.000000 for all feature columns. Thus, there are no missing values."
   ]
  },
  {
   "cell_type": "code",
   "execution_count": 22,
   "metadata": {
    "colab": {
     "base_uri": "https://localhost:8080/",
     "height": 222
    },
    "colab_type": "code",
    "id": "b4C4BmhV8ch9",
    "outputId": "82bcc9d3-4432-4068-ab82-6a6abbe4a024",
    "tags": []
   },
   "outputs": [
    {
     "data": {
      "text/html": [
       "<div>\n",
       "<style scoped>\n",
       "    .dataframe tbody tr th:only-of-type {\n",
       "        vertical-align: middle;\n",
       "    }\n",
       "\n",
       "    .dataframe tbody tr th {\n",
       "        vertical-align: top;\n",
       "    }\n",
       "\n",
       "    .dataframe thead th {\n",
       "        text-align: right;\n",
       "    }\n",
       "</style>\n",
       "<table border=\"1\" class=\"dataframe\">\n",
       "  <thead>\n",
       "    <tr style=\"text-align: right;\">\n",
       "      <th></th>\n",
       "      <th>longitude</th>\n",
       "      <th>latitude</th>\n",
       "      <th>housing_median_age</th>\n",
       "      <th>total_rooms</th>\n",
       "      <th>total_bedrooms</th>\n",
       "      <th>population</th>\n",
       "      <th>households</th>\n",
       "      <th>median_income</th>\n",
       "      <th>median_house_value</th>\n",
       "    </tr>\n",
       "  </thead>\n",
       "  <tbody>\n",
       "    <tr>\n",
       "      <th>count</th>\n",
       "      <td>500.00000</td>\n",
       "      <td>500.00000</td>\n",
       "      <td>500.000000</td>\n",
       "      <td>500.000000</td>\n",
       "      <td>500.000000</td>\n",
       "      <td>500.000000</td>\n",
       "      <td>500.000000</td>\n",
       "      <td>500.000000</td>\n",
       "      <td>500.000000</td>\n",
       "    </tr>\n",
       "    <tr>\n",
       "      <th>mean</th>\n",
       "      <td>-121.52480</td>\n",
       "      <td>37.85044</td>\n",
       "      <td>29.734000</td>\n",
       "      <td>2622.002000</td>\n",
       "      <td>507.032000</td>\n",
       "      <td>1261.366000</td>\n",
       "      <td>469.446000</td>\n",
       "      <td>3.789722</td>\n",
       "      <td>175274.012000</td>\n",
       "    </tr>\n",
       "    <tr>\n",
       "      <th>std</th>\n",
       "      <td>0.97756</td>\n",
       "      <td>0.78471</td>\n",
       "      <td>13.964141</td>\n",
       "      <td>2181.830923</td>\n",
       "      <td>402.241419</td>\n",
       "      <td>990.397384</td>\n",
       "      <td>381.434345</td>\n",
       "      <td>1.903154</td>\n",
       "      <td>97965.490619</td>\n",
       "    </tr>\n",
       "    <tr>\n",
       "      <th>min</th>\n",
       "      <td>-124.21000</td>\n",
       "      <td>36.14000</td>\n",
       "      <td>2.000000</td>\n",
       "      <td>44.000000</td>\n",
       "      <td>6.000000</td>\n",
       "      <td>23.000000</td>\n",
       "      <td>9.000000</td>\n",
       "      <td>0.536000</td>\n",
       "      <td>34400.000000</td>\n",
       "    </tr>\n",
       "    <tr>\n",
       "      <th>25%</th>\n",
       "      <td>-122.18000</td>\n",
       "      <td>37.66000</td>\n",
       "      <td>18.000000</td>\n",
       "      <td>1472.500000</td>\n",
       "      <td>287.750000</td>\n",
       "      <td>708.000000</td>\n",
       "      <td>258.000000</td>\n",
       "      <td>2.418875</td>\n",
       "      <td>95875.000000</td>\n",
       "    </tr>\n",
       "    <tr>\n",
       "      <th>50%</th>\n",
       "      <td>-122.02000</td>\n",
       "      <td>37.81000</td>\n",
       "      <td>29.000000</td>\n",
       "      <td>2025.000000</td>\n",
       "      <td>402.000000</td>\n",
       "      <td>1002.500000</td>\n",
       "      <td>364.500000</td>\n",
       "      <td>3.359450</td>\n",
       "      <td>156000.000000</td>\n",
       "    </tr>\n",
       "    <tr>\n",
       "      <th>75%</th>\n",
       "      <td>-120.88750</td>\n",
       "      <td>37.98000</td>\n",
       "      <td>41.000000</td>\n",
       "      <td>3005.250000</td>\n",
       "      <td>583.750000</td>\n",
       "      <td>1527.250000</td>\n",
       "      <td>538.250000</td>\n",
       "      <td>4.746100</td>\n",
       "      <td>226950.000000</td>\n",
       "    </tr>\n",
       "    <tr>\n",
       "      <th>max</th>\n",
       "      <td>-119.31000</td>\n",
       "      <td>41.77000</td>\n",
       "      <td>52.000000</td>\n",
       "      <td>18634.000000</td>\n",
       "      <td>3298.000000</td>\n",
       "      <td>7517.000000</td>\n",
       "      <td>3262.000000</td>\n",
       "      <td>15.000100</td>\n",
       "      <td>500001.000000</td>\n",
       "    </tr>\n",
       "  </tbody>\n",
       "</table>\n",
       "</div>"
      ],
      "text/plain": [
       "       longitude   latitude  housing_median_age   total_rooms  total_bedrooms   \n",
       "count  500.00000  500.00000          500.000000    500.000000      500.000000  \\\n",
       "mean  -121.52480   37.85044           29.734000   2622.002000      507.032000   \n",
       "std      0.97756    0.78471           13.964141   2181.830923      402.241419   \n",
       "min   -124.21000   36.14000            2.000000     44.000000        6.000000   \n",
       "25%   -122.18000   37.66000           18.000000   1472.500000      287.750000   \n",
       "50%   -122.02000   37.81000           29.000000   2025.000000      402.000000   \n",
       "75%   -120.88750   37.98000           41.000000   3005.250000      583.750000   \n",
       "max   -119.31000   41.77000           52.000000  18634.000000     3298.000000   \n",
       "\n",
       "        population   households  median_income  median_house_value  \n",
       "count   500.000000   500.000000     500.000000          500.000000  \n",
       "mean   1261.366000   469.446000       3.789722       175274.012000  \n",
       "std     990.397384   381.434345       1.903154        97965.490619  \n",
       "min      23.000000     9.000000       0.536000        34400.000000  \n",
       "25%     708.000000   258.000000       2.418875        95875.000000  \n",
       "50%    1002.500000   364.500000       3.359450       156000.000000  \n",
       "75%    1527.250000   538.250000       4.746100       226950.000000  \n",
       "max    7517.000000  3262.000000      15.000100       500001.000000  "
      ]
     },
     "execution_count": 22,
     "metadata": {},
     "output_type": "execute_result"
    }
   ],
   "source": [
    "test_data = pd.read_csv('data/nyc_house/housing-test.csv')\n",
    "test_data.describe()"
   ]
  },
  {
   "cell_type": "markdown",
   "metadata": {
    "colab_type": "text",
    "id": "nY2Yrt8fC7RW"
   },
   "source": [
    "Now that we have created an input pipeline using tf.data and compiled a Keras Sequential Model, we now create the input function for the test data and to initialize the test_predict variable."
   ]
  },
  {
   "cell_type": "code",
   "execution_count": 23,
   "metadata": {
    "colab": {},
    "colab_type": "code",
    "id": "8rMdDeGDCwpT",
    "tags": []
   },
   "outputs": [],
   "source": [
    "# TODO 1f -- Your code here\n",
    "def test_input_fn(features, batch_size=256):\n",
    "    # Convert the inputs to a Dataset without labels.\n",
    "    return tf.data.Dataset.from_tensor_slices(dict(features)).batch(batch_size)"
   ]
  },
  {
   "cell_type": "code",
   "execution_count": 24,
   "metadata": {
    "tags": []
   },
   "outputs": [],
   "source": [
    "test_predict = test_input_fn(dict(test_data))"
   ]
  },
  {
   "cell_type": "markdown",
   "metadata": {
    "colab_type": "text",
    "id": "H5SkINtbDIdr"
   },
   "source": [
    "#### Prediction:  Linear Regression\n",
    "\n",
    "Before we begin to feature engineer our feature columns, we should predict the median house value.  By predicting the median house value now, we can then compare it with the median house value after feature engineering.\n",
    "\n",
    "To predict with Keras, you simply call [model.predict()](https://keras.io/models/model/#predict) and pass in the housing features you want to predict the median_house_value for. Note:  We are predicting the model locally."
   ]
  },
  {
   "cell_type": "code",
   "execution_count": 25,
   "metadata": {
    "colab": {},
    "colab_type": "code",
    "id": "uNc6TSoJDL7-",
    "tags": []
   },
   "outputs": [
    {
     "name": "stdout",
     "output_type": "stream",
     "text": [
      "WARNING:tensorflow:Layers in a Sequential model should only have a single input tensor. Received: inputs={'longitude': <tf.Tensor 'IteratorGetNext:3' shape=(None,) dtype=float64>, 'latitude': <tf.Tensor 'IteratorGetNext:2' shape=(None,) dtype=float64>, 'housing_median_age': <tf.Tensor 'IteratorGetNext:1' shape=(None,) dtype=int64>, 'total_rooms': <tf.Tensor 'IteratorGetNext:9' shape=(None,) dtype=int64>, 'total_bedrooms': <tf.Tensor 'IteratorGetNext:8' shape=(None,) dtype=int64>, 'population': <tf.Tensor 'IteratorGetNext:7' shape=(None,) dtype=int64>, 'households': <tf.Tensor 'IteratorGetNext:0' shape=(None,) dtype=int64>, 'median_income': <tf.Tensor 'IteratorGetNext:5' shape=(None,) dtype=float64>, 'median_house_value': <tf.Tensor 'IteratorGetNext:4' shape=(None,) dtype=int64>, 'ocean_proximity': <tf.Tensor 'IteratorGetNext:6' shape=(None,) dtype=string>}. Consider rewriting this model with the Functional API.\n",
      "2/2 [==============================] - 0s 3ms/step\n"
     ]
    }
   ],
   "source": [
    "predicted_median_house_value = model.predict(test_predict)"
   ]
  },
  {
   "cell_type": "markdown",
   "metadata": {
    "colab_type": "text",
    "id": "HFXK1SKPDYgD"
   },
   "source": [
    "Next, we run two predictions in separate cells - one where ocean_proximity=INLAND and one where ocean_proximity= NEAR OCEAN. "
   ]
  },
  {
   "cell_type": "code",
   "execution_count": 26,
   "metadata": {
    "colab": {
     "base_uri": "https://localhost:8080/",
     "height": 34
    },
    "colab_type": "code",
    "id": "xepss0vhoHge",
    "outputId": "46842a26-eacd-4801-857b-18c6a8f2005c",
    "tags": []
   },
   "outputs": [
    {
     "name": "stdout",
     "output_type": "stream",
     "text": [
      "WARNING:tensorflow:Layers in a Sequential model should only have a single input tensor. Received: inputs={'longitude': <tf.Tensor 'IteratorGetNext:3' shape=(1,) dtype=float32>, 'latitude': <tf.Tensor 'IteratorGetNext:2' shape=(1,) dtype=float32>, 'housing_median_age': <tf.Tensor 'IteratorGetNext:1' shape=(1,) dtype=float32>, 'total_rooms': <tf.Tensor 'IteratorGetNext:8' shape=(1,) dtype=float32>, 'total_bedrooms': <tf.Tensor 'IteratorGetNext:7' shape=(1,) dtype=float32>, 'population': <tf.Tensor 'IteratorGetNext:6' shape=(1,) dtype=float32>, 'households': <tf.Tensor 'IteratorGetNext:0' shape=(1,) dtype=float32>, 'median_income': <tf.Tensor 'IteratorGetNext:4' shape=(1,) dtype=float32>, 'ocean_proximity': <tf.Tensor 'IteratorGetNext:5' shape=(1,) dtype=string>}. Consider rewriting this model with the Functional API.\n",
      "1/1 [==============================] - 0s 175ms/step\n"
     ]
    },
    {
     "data": {
      "text/plain": [
       "array([[356388.88]], dtype=float32)"
      ]
     },
     "execution_count": 26,
     "metadata": {},
     "output_type": "execute_result"
    }
   ],
   "source": [
    "# Ocean_proximity is INLAND\n",
    "model.predict({\n",
    "    'longitude': tf.convert_to_tensor([-121.86]),\n",
    "    'latitude': tf.convert_to_tensor([39.78]),\n",
    "    'housing_median_age': tf.convert_to_tensor([12.0]),\n",
    "    'total_rooms': tf.convert_to_tensor([7653.0]),\n",
    "    'total_bedrooms': tf.convert_to_tensor([1578.0]),\n",
    "    'population': tf.convert_to_tensor([3628.0]),\n",
    "    'households': tf.convert_to_tensor([1494.0]),\n",
    "    'median_income': tf.convert_to_tensor([3.0905]),\n",
    "    'ocean_proximity': tf.convert_to_tensor(['INLAND'])\n",
    "}, steps=1)"
   ]
  },
  {
   "cell_type": "code",
   "execution_count": 27,
   "metadata": {
    "colab": {
     "base_uri": "https://localhost:8080/",
     "height": 34
    },
    "colab_type": "code",
    "id": "qPssm8p4EZHh",
    "outputId": "2a55d427-7857-401c-f60d-edbb36be19ec",
    "tags": []
   },
   "outputs": [
    {
     "name": "stdout",
     "output_type": "stream",
     "text": [
      "1/1 [==============================] - 0s 30ms/step\n"
     ]
    },
    {
     "data": {
      "text/plain": [
       "array([[199914.53]], dtype=float32)"
      ]
     },
     "execution_count": 27,
     "metadata": {},
     "output_type": "execute_result"
    }
   ],
   "source": [
    "# Ocean_proximity is NEAR OCEAN\n",
    "model.predict({\n",
    "    'longitude': tf.convert_to_tensor([-122.43]),\n",
    "    'latitude': tf.convert_to_tensor([37.63]),\n",
    "    'housing_median_age': tf.convert_to_tensor([34.0]),\n",
    "    'total_rooms': tf.convert_to_tensor([4135.0]),\n",
    "    'total_bedrooms': tf.convert_to_tensor([687.0]),\n",
    "    'population': tf.convert_to_tensor([2154.0]),\n",
    "    'households': tf.convert_to_tensor([742.0]),\n",
    "    'median_income': tf.convert_to_tensor([4.9732]),\n",
    "    'ocean_proximity': tf.convert_to_tensor(['NEAR OCEAN'])\n",
    "}, steps=1)"
   ]
  },
  {
   "cell_type": "markdown",
   "metadata": {
    "colab_type": "text",
    "id": "Txl-MRuLFE_8"
   },
   "source": [
    "The arrays returns a predicted value.  What do these numbers mean?  Let's compare this value to the test set.  \n",
    "\n",
    "Go to the test.csv you read in a few cells up.  Locate the first line and find the median_house_value - which should be 249,000 dollars near the ocean. What value did your model predicted for the median_house_value? Was it a solid model performance? Let's see if we can improve this a bit with feature engineering!  \n"
   ]
  },
  {
   "cell_type": "markdown",
   "metadata": {},
   "source": [
    "## Lab Task 2: Engineer features to create categorical and numerical features"
   ]
  },
  {
   "cell_type": "markdown",
   "metadata": {
    "colab_type": "text",
    "id": "78F1XH1Qwvbt"
   },
   "source": [
    "Now we create a cell that indicates which features will be used in the model.  \n",
    "Note:  Be sure to bucketize 'housing_median_age' and ensure that 'ocean_proximity' is one-hot encoded.  And, don't forget your numeric values!"
   ]
  },
  {
   "cell_type": "code",
   "execution_count": 28,
   "metadata": {
    "colab": {},
    "colab_type": "code",
    "id": "ZxSatLUxUmvI",
    "tags": []
   },
   "outputs": [],
   "source": [
    "# TODO 2a -- Your code here\n",
    "categorical_cols = ['ocean_proximity']\n",
    "\n",
    "numeric_cols = ['longitude', \n",
    "                'latitude', \n",
    "                'housing_median_age', \n",
    "                'total_rooms', \n",
    "                'total_bedrooms', \n",
    "                'population', \n",
    "                'households', \n",
    "                'median_income']\n",
    "\n",
    "bucketized_cols = ['housing_median_age']\n"
   ]
  },
  {
   "cell_type": "markdown",
   "metadata": {
    "colab_type": "text",
    "id": "5HbypkYHxxwt"
   },
   "source": [
    "Next, we scale the numerical, bucktized, and categorical feature columns that we assigned to the variables in the preceding cell."
   ]
  },
  {
   "cell_type": "code",
   "execution_count": 29,
   "metadata": {
    "colab": {},
    "colab_type": "code",
    "id": "ExX5Akz0UnE-",
    "tags": []
   },
   "outputs": [],
   "source": [
    "# Scalar def get_scal(feature):\n",
    "def get_scal(feature):\n",
    "    def minmax(x):\n",
    "        mini = train[feature].min()\n",
    "        maxi = train[feature].max()\n",
    "        return (x - mini)/(maxi-mini)\n",
    "        return(minmax)"
   ]
  },
  {
   "cell_type": "code",
   "execution_count": 30,
   "metadata": {
    "colab": {},
    "colab_type": "code",
    "id": "wzqcddUQUnKn",
    "tags": []
   },
   "outputs": [],
   "source": [
    "# All numerical features - scaling\n",
    "feature_columns = []\n",
    "for header in numeric_cols:\n",
    "    scal_input_fn = get_scal(header)\n",
    "    feature_columns.append(fc.numeric_column(header,\n",
    "                                             normalizer_fn=scal_input_fn))"
   ]
  },
  {
   "cell_type": "markdown",
   "metadata": {
    "colab_type": "text",
    "id": "yYUpUZvgwrPe"
   },
   "source": [
    "### Categorical Feature\n",
    "In this dataset, 'ocean_proximity' is represented as a string.  We cannot feed strings directly to a model. Instead, we must first map them to numeric values. The categorical vocabulary columns provide a way to represent strings as a one-hot vector."
   ]
  },
  {
   "cell_type": "markdown",
   "metadata": {
    "colab_type": "text",
    "id": "sZnlnFZkyEbe"
   },
   "source": [
    "Next, we create a categorical feature using 'ocean_proximity'."
   ]
  },
  {
   "cell_type": "code",
   "execution_count": 31,
   "metadata": {
    "colab": {},
    "colab_type": "code",
    "id": "3Cf6SoFTUnc6",
    "tags": []
   },
   "outputs": [],
   "source": [
    "# TODO 2b -- Your code here\n",
    "for featue_name in categorical_cols:\n",
    "    vocabulary = housing_df[featue_name].unique()\n",
    "    cat_col = tf.feature_column.categorical_column_with_vocabulary_list(featue_name, vocabulary)\n",
    "    one_hot = fc.indicator_column(cat_col)\n",
    "    feature_columns.append(one_hot)"
   ]
  },
  {
   "cell_type": "markdown",
   "metadata": {
    "colab_type": "text",
    "id": "qnGyWaijzShj"
   },
   "source": [
    "### Bucketized Feature\n",
    "\n",
    "Often, you don't want to feed a number directly into the model, but instead split its value into different categories based on numerical ranges. Consider our raw data that represents a homes' age. Instead of representing the house age as a numeric column, we could split the home age into several buckets using a [bucketized column](https://www.tensorflow.org/api_docs/python/tf/feature_column/bucketized_column). Notice the one-hot values below describe which age range each row matches."
   ]
  },
  {
   "cell_type": "markdown",
   "metadata": {
    "colab_type": "text",
    "id": "7ZRlFyP7fOw-"
   },
   "source": [
    "Next we create a bucketized column using 'housing_median_age'\n"
   ]
  },
  {
   "cell_type": "code",
   "execution_count": 32,
   "metadata": {
    "colab": {},
    "colab_type": "code",
    "id": "xB-yiVLmUnXp",
    "tags": []
   },
   "outputs": [],
   "source": [
    "# TODO 2c -- Your code here\n",
    "age = fc.numeric_column(\"housing_median_age\")\n",
    "\n",
    "# Bucketized cols\n",
    "age_buckets = fc.bucketized_column(age, boundaries=[10, 20, 30, 40, 50, 60, 80, 100])\n",
    "feature_columns.append(age_buckets)"
   ]
  },
  {
   "cell_type": "markdown",
   "metadata": {
    "colab_type": "text",
    "id": "Ri4_wssOg943"
   },
   "source": [
    "### Feature Cross\n",
    "\n",
    "Combining features into a single feature, better known as [feature crosses](https://developers.google.com/machine-learning/glossary/#feature_cross), enables a model to learn separate weights for each combination of features."
   ]
  },
  {
   "cell_type": "markdown",
   "metadata": {
    "colab_type": "text",
    "id": "a6HHJl3J0j0T"
   },
   "source": [
    "Next, we create a feature cross of 'housing_median_age' and 'ocean_proximity'."
   ]
  },
  {
   "cell_type": "code",
   "execution_count": 33,
   "metadata": {
    "colab": {},
    "colab_type": "code",
    "id": "JVLnG0WbUnkl",
    "tags": []
   },
   "outputs": [],
   "source": [
    "# TODO 2d -- Your code here\n",
    "vocabulary = housing_df['ocean_proximity'].unique()\n",
    "ocean_proximity = fc.categorical_column_with_vocabulary_list('ocean_proximity',\n",
    "                                                             vocabulary)\n",
    "\n",
    "crossed_feature = fc.crossed_column([age_buckets, ocean_proximity],\n",
    "                                    hash_bucket_size=1000)\n",
    "crossed_feature = fc.indicator_column(crossed_feature)\n",
    "feature_columns.append(crossed_feature)"
   ]
  },
  {
   "cell_type": "markdown",
   "metadata": {
    "colab_type": "text",
    "id": "hiz6HCWg1CXO"
   },
   "source": [
    "Next, we should validate the total number of feature columns.  Compare this number to the number of numeric features you input earlier."
   ]
  },
  {
   "cell_type": "code",
   "execution_count": 34,
   "metadata": {
    "colab": {
     "base_uri": "https://localhost:8080/",
     "height": 34
    },
    "colab_type": "code",
    "id": "6P3Ewc3_Unsv",
    "outputId": "42c1c4a6-89f8-4685-b2d0-e76a90cdf9ee",
    "tags": []
   },
   "outputs": [
    {
     "name": "stdout",
     "output_type": "stream",
     "text": [
      "Total number of feature columns:  11\n"
     ]
    }
   ],
   "source": [
    "print('Total number of feature columns: ', len(feature_columns))"
   ]
  },
  {
   "cell_type": "markdown",
   "metadata": {
    "colab_type": "text",
    "id": "lNr00mP41sJp"
   },
   "source": [
    "Next, we will run this cell to compile and fit the Keras Sequential model.  This is the same model we ran earlier."
   ]
  },
  {
   "cell_type": "code",
   "execution_count": 35,
   "metadata": {
    "colab": {
     "base_uri": "https://localhost:8080/",
     "height": 1000
    },
    "colab_type": "code",
    "id": "4Dwal3oxUoCe",
    "outputId": "1ae08747-7dbe-47a5-b3e7-87581e460b1b",
    "tags": []
   },
   "outputs": [
    {
     "name": "stdout",
     "output_type": "stream",
     "text": [
      "Epoch 1/32\n",
      "WARNING:tensorflow:Layers in a Sequential model should only have a single input tensor. Received: inputs={'longitude': <tf.Tensor 'IteratorGetNext:3' shape=(None,) dtype=float64>, 'latitude': <tf.Tensor 'IteratorGetNext:2' shape=(None,) dtype=float64>, 'housing_median_age': <tf.Tensor 'IteratorGetNext:1' shape=(None,) dtype=int64>, 'total_rooms': <tf.Tensor 'IteratorGetNext:8' shape=(None,) dtype=int64>, 'total_bedrooms': <tf.Tensor 'IteratorGetNext:7' shape=(None,) dtype=int64>, 'population': <tf.Tensor 'IteratorGetNext:6' shape=(None,) dtype=int64>, 'households': <tf.Tensor 'IteratorGetNext:0' shape=(None,) dtype=int64>, 'median_income': <tf.Tensor 'IteratorGetNext:4' shape=(None,) dtype=float64>, 'ocean_proximity': <tf.Tensor 'IteratorGetNext:5' shape=(None,) dtype=string>}. Consider rewriting this model with the Functional API.\n",
      "WARNING:tensorflow:Layers in a Sequential model should only have a single input tensor. Received: inputs={'longitude': <tf.Tensor 'IteratorGetNext:3' shape=(None,) dtype=float64>, 'latitude': <tf.Tensor 'IteratorGetNext:2' shape=(None,) dtype=float64>, 'housing_median_age': <tf.Tensor 'IteratorGetNext:1' shape=(None,) dtype=int64>, 'total_rooms': <tf.Tensor 'IteratorGetNext:8' shape=(None,) dtype=int64>, 'total_bedrooms': <tf.Tensor 'IteratorGetNext:7' shape=(None,) dtype=int64>, 'population': <tf.Tensor 'IteratorGetNext:6' shape=(None,) dtype=int64>, 'households': <tf.Tensor 'IteratorGetNext:0' shape=(None,) dtype=int64>, 'median_income': <tf.Tensor 'IteratorGetNext:4' shape=(None,) dtype=float64>, 'ocean_proximity': <tf.Tensor 'IteratorGetNext:5' shape=(None,) dtype=string>}. Consider rewriting this model with the Functional API.\n",
      "40/50 [=======================>......] - ETA: 0s - loss: 38286606336.0000 - mse: 38286606336.0000WARNING:tensorflow:Layers in a Sequential model should only have a single input tensor. Received: inputs={'longitude': <tf.Tensor 'IteratorGetNext:3' shape=(None,) dtype=float64>, 'latitude': <tf.Tensor 'IteratorGetNext:2' shape=(None,) dtype=float64>, 'housing_median_age': <tf.Tensor 'IteratorGetNext:1' shape=(None,) dtype=int64>, 'total_rooms': <tf.Tensor 'IteratorGetNext:8' shape=(None,) dtype=int64>, 'total_bedrooms': <tf.Tensor 'IteratorGetNext:7' shape=(None,) dtype=int64>, 'population': <tf.Tensor 'IteratorGetNext:6' shape=(None,) dtype=int64>, 'households': <tf.Tensor 'IteratorGetNext:0' shape=(None,) dtype=int64>, 'median_income': <tf.Tensor 'IteratorGetNext:4' shape=(None,) dtype=float64>, 'ocean_proximity': <tf.Tensor 'IteratorGetNext:5' shape=(None,) dtype=string>}. Consider rewriting this model with the Functional API.\n",
      "50/50 [==============================] - 2s 11ms/step - loss: 37704355840.0000 - mse: 37704355840.0000 - val_loss: 39344152576.0000 - val_mse: 39344152576.0000\n",
      "Epoch 2/32\n",
      "50/50 [==============================] - 0s 3ms/step - loss: 37631909888.0000 - mse: 37631909888.0000 - val_loss: 39230414848.0000 - val_mse: 39230414848.0000\n",
      "Epoch 3/32\n",
      "50/50 [==============================] - 0s 3ms/step - loss: 37474500608.0000 - mse: 37474500608.0000 - val_loss: 38972923904.0000 - val_mse: 38972923904.0000\n",
      "Epoch 4/32\n",
      "50/50 [==============================] - 0s 3ms/step - loss: 37136560128.0000 - mse: 37136560128.0000 - val_loss: 38470946816.0000 - val_mse: 38470946816.0000\n",
      "Epoch 5/32\n",
      "50/50 [==============================] - 0s 3ms/step - loss: 36535222272.0000 - mse: 36535222272.0000 - val_loss: 37647011840.0000 - val_mse: 37647011840.0000\n",
      "Epoch 6/32\n",
      "50/50 [==============================] - 0s 3ms/step - loss: 35609497600.0000 - mse: 35609497600.0000 - val_loss: 36428861440.0000 - val_mse: 36428861440.0000\n",
      "Epoch 7/32\n",
      "50/50 [==============================] - 0s 5ms/step - loss: 34303084544.0000 - mse: 34303084544.0000 - val_loss: 34804465664.0000 - val_mse: 34804465664.0000\n",
      "Epoch 8/32\n",
      "50/50 [==============================] - 0s 4ms/step - loss: 32624476160.0000 - mse: 32624476160.0000 - val_loss: 32766789632.0000 - val_mse: 32766789632.0000\n",
      "Epoch 9/32\n",
      "50/50 [==============================] - 0s 4ms/step - loss: 30601998336.0000 - mse: 30601998336.0000 - val_loss: 30359822336.0000 - val_mse: 30359822336.0000\n",
      "Epoch 10/32\n",
      "50/50 [==============================] - 0s 4ms/step - loss: 28303669248.0000 - mse: 28303669248.0000 - val_loss: 27779250176.0000 - val_mse: 27779250176.0000\n",
      "Epoch 11/32\n",
      "50/50 [==============================] - 0s 3ms/step - loss: 25875619840.0000 - mse: 25875619840.0000 - val_loss: 25129216000.0000 - val_mse: 25129216000.0000\n",
      "Epoch 12/32\n",
      "50/50 [==============================] - 0s 4ms/step - loss: 23465385984.0000 - mse: 23465385984.0000 - val_loss: 22580916224.0000 - val_mse: 22580916224.0000\n",
      "Epoch 13/32\n",
      "50/50 [==============================] - 0s 5ms/step - loss: 21239668736.0000 - mse: 21239668736.0000 - val_loss: 20290271232.0000 - val_mse: 20290271232.0000\n",
      "Epoch 14/32\n",
      "50/50 [==============================] - 0s 4ms/step - loss: 19316942848.0000 - mse: 19316942848.0000 - val_loss: 18489356288.0000 - val_mse: 18489356288.0000\n",
      "Epoch 15/32\n",
      "50/50 [==============================] - 0s 6ms/step - loss: 17822842880.0000 - mse: 17822842880.0000 - val_loss: 17093039104.0000 - val_mse: 17093039104.0000\n",
      "Epoch 16/32\n",
      "50/50 [==============================] - 0s 4ms/step - loss: 16741118976.0000 - mse: 16741118976.0000 - val_loss: 16174300160.0000 - val_mse: 16174300160.0000\n",
      "Epoch 17/32\n",
      "50/50 [==============================] - 0s 4ms/step - loss: 16055768064.0000 - mse: 16055768064.0000 - val_loss: 15587818496.0000 - val_mse: 15587818496.0000\n",
      "Epoch 18/32\n",
      "50/50 [==============================] - 0s 5ms/step - loss: 15657796608.0000 - mse: 15657796608.0000 - val_loss: 15294773248.0000 - val_mse: 15294773248.0000\n",
      "Epoch 19/32\n",
      "50/50 [==============================] - 0s 4ms/step - loss: 15437238272.0000 - mse: 15437238272.0000 - val_loss: 15156234240.0000 - val_mse: 15156234240.0000\n",
      "Epoch 20/32\n",
      "50/50 [==============================] - 0s 4ms/step - loss: 15332578304.0000 - mse: 15332578304.0000 - val_loss: 15067646976.0000 - val_mse: 15067646976.0000\n",
      "Epoch 21/32\n",
      "50/50 [==============================] - 0s 3ms/step - loss: 15265708032.0000 - mse: 15265708032.0000 - val_loss: 15035965440.0000 - val_mse: 15035965440.0000\n",
      "Epoch 22/32\n",
      "50/50 [==============================] - 0s 3ms/step - loss: 15220071424.0000 - mse: 15220071424.0000 - val_loss: 15001588736.0000 - val_mse: 15001588736.0000\n",
      "Epoch 23/32\n",
      "50/50 [==============================] - 0s 3ms/step - loss: 15191969792.0000 - mse: 15191969792.0000 - val_loss: 14979457024.0000 - val_mse: 14979457024.0000\n",
      "Epoch 24/32\n",
      "50/50 [==============================] - 0s 3ms/step - loss: 15167115264.0000 - mse: 15167115264.0000 - val_loss: 14959264768.0000 - val_mse: 14959264768.0000\n",
      "Epoch 25/32\n",
      "50/50 [==============================] - 0s 4ms/step - loss: 15145166848.0000 - mse: 15145166848.0000 - val_loss: 14940095488.0000 - val_mse: 14940095488.0000\n",
      "Epoch 26/32\n",
      "50/50 [==============================] - 0s 3ms/step - loss: 15134791680.0000 - mse: 15134791680.0000 - val_loss: 14925256704.0000 - val_mse: 14925256704.0000\n",
      "Epoch 27/32\n",
      "50/50 [==============================] - 0s 3ms/step - loss: 15107734528.0000 - mse: 15107734528.0000 - val_loss: 14899317760.0000 - val_mse: 14899317760.0000\n",
      "Epoch 28/32\n",
      "50/50 [==============================] - 0s 3ms/step - loss: 15091933184.0000 - mse: 15091933184.0000 - val_loss: 14883744768.0000 - val_mse: 14883744768.0000\n",
      "Epoch 29/32\n",
      "50/50 [==============================] - 0s 4ms/step - loss: 15074083840.0000 - mse: 15074083840.0000 - val_loss: 14859109376.0000 - val_mse: 14859109376.0000\n",
      "Epoch 30/32\n",
      "50/50 [==============================] - 0s 3ms/step - loss: 15043793920.0000 - mse: 15043793920.0000 - val_loss: 14839712768.0000 - val_mse: 14839712768.0000\n",
      "Epoch 31/32\n",
      "50/50 [==============================] - 0s 4ms/step - loss: 15023211520.0000 - mse: 15023211520.0000 - val_loss: 14819399680.0000 - val_mse: 14819399680.0000\n",
      "Epoch 32/32\n",
      "50/50 [==============================] - 0s 4ms/step - loss: 15005155328.0000 - mse: 15005155328.0000 - val_loss: 14800974848.0000 - val_mse: 14800974848.0000\n"
     ]
    }
   ],
   "source": [
    "# Model create\n",
    "feature_layer = tf.keras.layers.DenseFeatures(feature_columns,\n",
    "                                              dtype='float64')\n",
    "\n",
    "model = tf.keras.Sequential([\n",
    "  feature_layer,\n",
    "  layers.Dense(12, input_dim=8, activation='relu'),\n",
    "  layers.Dense(8, activation='relu'),\n",
    "  layers.Dense(1, activation='linear',  name='median_house_value')\n",
    "])\n",
    "\n",
    "# Model compile\n",
    "model.compile(optimizer='adam',\n",
    "              loss='mse',\n",
    "              metrics=['mse'])\n",
    "\n",
    "# Model Fit\n",
    "history = model.fit(train_ds,\n",
    "                    validation_data=val_ds,\n",
    "                    epochs=32)"
   ]
  },
  {
   "cell_type": "markdown",
   "metadata": {
    "colab_type": "text",
    "id": "3LdUQszM16Oj"
   },
   "source": [
    "Next, we show loss and mean squared error then plot the model."
   ]
  },
  {
   "cell_type": "code",
   "execution_count": 36,
   "metadata": {
    "colab": {
     "base_uri": "https://localhost:8080/",
     "height": 71
    },
    "colab_type": "code",
    "id": "ZtFSpkd9UoAW",
    "outputId": "bac4836e-c4f1-4b29-876d-91fe1b51a5a7",
    "tags": []
   },
   "outputs": [
    {
     "name": "stdout",
     "output_type": "stream",
     "text": [
      "50/50 [==============================] - 0s 3ms/step - loss: 14985449472.0000 - mse: 14985449472.0000\n",
      "Mean Squared Error 14985449472.0\n"
     ]
    }
   ],
   "source": [
    "loss, mse = model.evaluate(train_ds)\n",
    "print(\"Mean Squared Error\", mse)"
   ]
  },
  {
   "cell_type": "code",
   "execution_count": 37,
   "metadata": {
    "colab": {
     "base_uri": "https://localhost:8080/",
     "height": 350
    },
    "colab_type": "code",
    "id": "O8kWMa6xUn-M",
    "outputId": "05ed9323-1102-4245-a40b-88543f11b0f3",
    "tags": []
   },
   "outputs": [
    {
     "data": {
      "image/png": "[encoded data removed]",
      "text/plain": [
       "<Figure size 1000x500 with 2 Axes>"
      ]
     },
     "metadata": {},
     "output_type": "display_data"
    }
   ],
   "source": [
    "plot_curves(history, ['loss', 'mse'])"
   ]
  },
  {
   "cell_type": "markdown",
   "metadata": {
    "colab_type": "text",
    "id": "C4tWwOQt2e-P"
   },
   "source": [
    "Next we create a prediction model.  Note:  You may use the same values from the previous prediciton.  "
   ]
  },
  {
   "cell_type": "code",
   "execution_count": 38,
   "metadata": {
    "tags": []
   },
   "outputs": [
    {
     "name": "stdout",
     "output_type": "stream",
     "text": [
      "WARNING:tensorflow:Layers in a Sequential model should only have a single input tensor. Received: inputs={'longitude': <tf.Tensor 'IteratorGetNext:3' shape=(1,) dtype=float32>, 'latitude': <tf.Tensor 'IteratorGetNext:2' shape=(1,) dtype=float32>, 'housing_median_age': <tf.Tensor 'IteratorGetNext:1' shape=(1,) dtype=float32>, 'total_rooms': <tf.Tensor 'IteratorGetNext:8' shape=(1,) dtype=float32>, 'total_bedrooms': <tf.Tensor 'IteratorGetNext:7' shape=(1,) dtype=float32>, 'population': <tf.Tensor 'IteratorGetNext:6' shape=(1,) dtype=float32>, 'households': <tf.Tensor 'IteratorGetNext:0' shape=(1,) dtype=float32>, 'median_income': <tf.Tensor 'IteratorGetNext:4' shape=(1,) dtype=float32>, 'ocean_proximity': <tf.Tensor 'IteratorGetNext:5' shape=(1,) dtype=string>}. Consider rewriting this model with the Functional API.\n",
      "1/1 [==============================] - 0s 254ms/step\n"
     ]
    },
    {
     "data": {
      "text/plain": [
       "array([[201218.33]], dtype=float32)"
      ]
     },
     "execution_count": 38,
     "metadata": {},
     "output_type": "execute_result"
    }
   ],
   "source": [
    "# TODO 2e -- Your code here\n",
    "# Median_house_value is $249,000, prediction is $234,000 NEAR OCEAN\n",
    "model.predict({\n",
    "    'longitude': tf.convert_to_tensor([-122.43]),\n",
    "    'latitude': tf.convert_to_tensor([37.63]),\n",
    "    'housing_median_age': tf.convert_to_tensor([34.0]),\n",
    "    'total_rooms': tf.convert_to_tensor([4135.0]),\n",
    "    'total_bedrooms': tf.convert_to_tensor([687.0]),\n",
    "    'population': tf.convert_to_tensor([2154.0]),\n",
    "    'households': tf.convert_to_tensor([742.0]),\n",
    "    'median_income': tf.convert_to_tensor([4.9732]),\n",
    "    'ocean_proximity': tf.convert_to_tensor(['NEAR OCEAN'])\n",
    "}, steps=1)"
   ]
  },
  {
   "cell_type": "markdown",
   "metadata": {
    "colab_type": "text",
    "id": "rcbdA3arXkej"
   },
   "source": [
    "### Analysis \n",
    "\n",
    "The array returns a predicted value.  Compare this value to the test set you ran earlier. Your predicted value may be a bit better.\n",
    "\n",
    "Now that you have your \"feature engineering template\" setup, you can experiment by creating additional features.  For example, you can create derived features, such as households per population, and see how they impact the model.  You can also experiment with replacing the features you used to create the feature cross.\n",
    " "
   ]
  },
  {
   "cell_type": "markdown",
   "metadata": {},
   "source": [
    "Copyright 2022 Google Inc.\n",
    "Licensed under the Apache License, Version 2.0 (the \"License\"); you may not use this file except in compliance with the License. You may obtain a copy of the License at\n",
    "http://www.apache.org/licenses/LICENSE-2.0\n",
    "Unless required by applicable law or agreed to in writing, software distributed under the License is distributed on an \"AS IS\" BASIS, WITHOUT WARRANTIES OR CONDITIONS OF ANY KIND, either express or implied. See the License for the specific language governing permissions and limitations under the License."
   ]
  }
 ],
 "metadata": {
  "colab": {
   "collapsed_sections": [],
   "name": "Basic Feature Engineering in Keras.ipynb",
   "provenance": [],
   "toc_visible": true
  },
  "environment": {
   "kernel": "python3",
   "name": "tf2-gpu.2-6.m104",
   "type": "gcloud",
   "uri": "gcr.io/deeplearning-platform-release/tf2-gpu.2-6:m104"
  },
  "kernelspec": {
   "display_name": "Python 3 (ipykernel)",
   "language": "python",
   "name": "python3"
  },
  "language_info": {
   "codemirror_mode": {
    "name": "ipython",
    "version": 3
   },
   "file_extension": ".py",
   "mimetype": "text/x-python",
   "name": "python",
   "nbconvert_exporter": "python",
   "pygments_lexer": "ipython3",
   "version": "3.8.15"
  }
 },
 "nbformat": 4,
 "nbformat_minor": 4
}
